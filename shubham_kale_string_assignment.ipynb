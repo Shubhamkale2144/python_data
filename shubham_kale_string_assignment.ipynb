{
 "cells": [
  {
   "cell_type": "code",
   "execution_count": 1,
   "id": "c03d9f74",
   "metadata": {},
   "outputs": [
    {
     "name": "stdout",
     "output_type": "stream",
     "text": [
      "The string is a palindrome.\n"
     ]
    }
   ],
   "source": [
    "#1. Program to check if a string is palindrome or not\n",
    "my_str = 'NAYan'\n",
    "# make it suitable for caseless comparison\n",
    "my_str = my_str.casefold()\n",
    "# reverse the string\n",
    "rev_str = reversed(my_str)\n",
    "# check if the string is equal to its reverse\n",
    "if list(my_str) == list(rev_str):\n",
    "   print(\"The string is a palindrome.\")\n",
    "else:\n",
    "   print(\"The string is not a palindrome.\")\n",
    "\n"
   ]
  },
  {
   "cell_type": "code",
   "execution_count": 3,
   "id": "f8eaa9d0",
   "metadata": {},
   "outputs": [
    {
     "name": "stdout",
     "output_type": "stream",
     "text": [
      "Enter string:shubham akle\n",
      "Number of vowels are:\n",
      "4\n"
     ]
    }
   ],
   "source": [
    "#2 .WAP program to count number of vowels in given strin\n",
    "string=input(\"Enter string:\")\n",
    "vowels=0\n",
    "for i in string:\n",
    "      if(i=='a' or i=='e' or i=='i' or i=='o' or i=='u' or i=='A' or i=='E' or i=='I' or i=='O' or i=='U'):\n",
    "            vowels=vowels+1\n",
    "print(\"Number of vowels are:\")\n",
    "\n",
    "print(vowels)\n"
   ]
  },
  {
   "cell_type": "code",
   "execution_count": 11,
   "id": "05519073",
   "metadata": {},
   "outputs": [
    {
     "name": "stdout",
     "output_type": "stream",
     "text": [
      "Enter a string: sjk\n",
      "Enter the character to remove: k\n",
      "String after removing all occurrences of k : sj\n"
     ]
    }
   ],
   "source": [
    "# 3. WAP to remove all occurences of given char from String\n",
    "string = input(\"Enter a string: \")\n",
    "char = input(\"Enter the character to remove: \")\n",
    "\n",
    "new_string = \"\"\n",
    "for i in string:\n",
    "    if i!= char:\n",
    "        new_string += i\n",
    "\n",
    "print(\"String after removing all occurrences of\", char, \":\", new_string)"
   ]
  },
  {
   "cell_type": "code",
   "execution_count": null,
   "id": "ca0eec38",
   "metadata": {},
   "outputs": [],
   "source": []
  },
  {
   "cell_type": "code",
   "execution_count": null,
   "id": "66c3a674",
   "metadata": {},
   "outputs": [],
   "source": []
  },
  {
   "cell_type": "code",
   "execution_count": 12,
   "id": "608bd2a3",
   "metadata": {},
   "outputs": [
    {
     "name": "stdout",
     "output_type": "stream",
     "text": [
      "Enter first string: \n",
      "Enter second string: \n",
      "The strings are anagrams.\n"
     ]
    }
   ],
   "source": [
    "# 4. WAP to accept 2 string and check whether they are anagram or not eg) MARY ARMY\n",
    "string1 = input(\"Enter first string: \")\n",
    "string2 = input(\"Enter second string: \")\n",
    "\n",
    "string1 = string1.replace(\" \", \"\").lower()\n",
    "string2 = string2.replace(\" \", \"\").lower()\n",
    "\n",
    "string1 = ''.join(sorted(string1))\n",
    "string2 = ''.join(sorted(string2))\n",
    "\n",
    "if string1 == string2:\n",
    "    print(\"The strings are anagrams.\")\n",
    "else:\n",
    "    \n",
    "    \n",
    "    print(\"The strings are not anagrams.\")\n",
    "\n",
    "    "
   ]
  },
  {
   "cell_type": "code",
   "execution_count": 26,
   "id": "ade6ecd4",
   "metadata": {},
   "outputs": [
    {
     "name": "stdout",
     "output_type": "stream",
     "text": [
      "a\n",
      "b\n",
      "c\n",
      "d\n",
      "e\n",
      "f\n",
      "g\n",
      "h\n",
      "i\n",
      "j\n",
      "k\n",
      "l\n",
      "m\n",
      "n\n",
      "o\n",
      "p\n",
      "q\n",
      "r\n",
      "s\n",
      "t\n",
      "u\n",
      "v\n",
      "w\n",
      "x\n",
      "y\n",
      "z\n"
     ]
    }
   ],
   "source": [
    "#5.Write a Python program to print all alphabets from a to z using for loop\n",
    "for i in range(ord('a'), ord('z')+1):\n",
    "    print(chr(i))"
   ]
  },
  {
   "cell_type": "code",
   "execution_count": 13,
   "id": "d6eb1dcb",
   "metadata": {},
   "outputs": [
    {
     "name": "stdout",
     "output_type": "stream",
     "text": [
      "Enter a string: shubham\n",
      "s : 1\n",
      "h : 2\n",
      "u : 1\n",
      "b : 1\n",
      "a : 1\n",
      "m : 1\n"
     ]
    }
   ],
   "source": [
    "#6. WAP program to find frequency of each character in given String\n",
    "\n",
    "string = input(\"Enter a string: \")\n",
    "freq = {}\n",
    "\n",
    "# Iterate through each character in the string\n",
    "for char in string:\n",
    "    if char in freq:\n",
    "        freq[char] += 1\n",
    "    else:\n",
    "        freq[char] = 1\n",
    "\n",
    "for key, value in freq.items():\n",
    "    print(key, \":\", value)"
   ]
  },
  {
   "cell_type": "code",
   "execution_count": 14,
   "id": "c33ac8e7",
   "metadata": {},
   "outputs": [
    {
     "name": "stdout",
     "output_type": "stream",
     "text": [
      "Enter a sentence: Ashwini\n",
      "New word: A\n"
     ]
    }
   ],
   "source": [
    "# 7. WAP to extract first alphabet from given sentence to form a new word\n",
    "sentence = input(\"Enter a sentence: \")\n",
    "\n",
    "words = sentence.split()\n",
    "first_alphabets = \"\"\n",
    "for i in words:\n",
    "    first_alphabets += i[0]\n",
    "\n",
    "print(\"New word:\", first_alphabets)"
   ]
  },
  {
   "cell_type": "code",
   "execution_count": 15,
   "id": "243c8db2",
   "metadata": {},
   "outputs": [
    {
     "name": "stdout",
     "output_type": "stream",
     "text": [
      "Enter the number of rows: 3\n",
      "*\n",
      "**\n",
      "***\n"
     ]
    }
   ],
   "source": [
    "# 8 Star triangular pattern example\n",
    "n = int(input(\"Enter the number of rows: \"))\n",
    "\n",
    "for i in range(1, n+1):\n",
    "    for j in range(i):\n",
    "        print(\"*\", end=\"\")\n",
    "    print()"
   ]
  },
  {
   "cell_type": "code",
   "execution_count": 25,
   "id": "8ec703b1",
   "metadata": {},
   "outputs": [
    {
     "name": "stdout",
     "output_type": "stream",
     "text": [
      "ABCDE\n",
      "ABCD\n",
      "ABC\n",
      "AB\n",
      "A\n"
     ]
    }
   ],
   "source": [
    "#.ABCDE\n",
    "#ABCD\n",
    "#ABC\n",
    "#AB\n",
    "#A\n",
    "string = \"ABCDE\"\n",
    "for i in range(len(string), 0, -1):\n",
    "    print(string[:i])\n"
   ]
  },
  {
   "cell_type": "code",
   "execution_count": 17,
   "id": "c220f33b",
   "metadata": {},
   "outputs": [
    {
     "name": "stdout",
     "output_type": "stream",
     "text": [
      "Enter the string: kale\n",
      "lbmf\n"
     ]
    }
   ],
   "source": [
    "# 10  WAP to replace every character by its next subsequent character\n",
    "original_string = input(\"Enter the string: \")\n",
    "new_string = \"\"\n",
    "for char in original_string:\n",
    "    new_char = chr(ord(char) + 1)#use the chr() and ord() functions to convert the character to its ASCII code, add 1 to the code, and convert it back to a character\n",
    "    new_string += new_char\n",
    "print(new_string)"
   ]
  },
  {
   "cell_type": "code",
   "execution_count": 20,
   "id": "36987d0c",
   "metadata": {},
   "outputs": [
    {
     "name": "stdout",
     "output_type": "stream",
     "text": [
      "Enter the String :ashwini\n",
      "a 1\n",
      "s 1\n",
      "h 1\n",
      "w 1\n",
      "i 2\n",
      "n 1\n"
     ]
    }
   ],
   "source": [
    "#11  Write a Python program to count the number of characters (character frequency) in a string.\n",
    "string = input(\"Enter the String :\")\n",
    "char_count = {}# here use dictionary beacause of key means charcter and count of occurance value so that's why use dictonary\n",
    "\n",
    "for char in string:\n",
    "    if char in char_count:\n",
    "        char_count[char] += 1\n",
    "    else:\n",
    "        char_count[char] = 1\n",
    "\n",
    "for key, value in char_count.items():\n",
    "    print(key, value)"
   ]
  },
  {
   "cell_type": "code",
   "execution_count": 21,
   "id": "c903cfc0",
   "metadata": {},
   "outputs": [
    {
     "name": "stdout",
     "output_type": "stream",
     "text": [
      "Enter the String: shubham kale\n",
      "suhmkl\n"
     ]
    }
   ],
   "source": [
    "#12 Write a Python program to remove the characters which have odd index values of a given string\n",
    "string = input(\"Enter the String: \")\n",
    "new_string = \"\"\n",
    "for i in range(len(string)):\n",
    "    if i % 2 == 0:\n",
    "        new_string += string[i]\n",
    "print(new_string)"
   ]
  },
  {
   "cell_type": "code",
   "execution_count": 23,
   "id": "86eb21d3",
   "metadata": {},
   "outputs": [
    {
     "name": "stdout",
     "output_type": "stream",
     "text": [
      "Enter the string:hello my name is shubham hello how are you shubham \n",
      "hello 2\n",
      "my 1\n",
      "name 1\n",
      "is 1\n",
      "shubham 2\n",
      "how 1\n",
      "are 1\n",
      "you 1\n"
     ]
    }
   ],
   "source": [
    "#13 Write a Python program to count the occurrences of each word in a given sentence.\n",
    "sentence = input('Enter the string:')\n",
    "word_count = {}\n",
    "\n",
    "# split the sentence into words\n",
    "words = sentence.split()\n",
    "\n",
    "for word in words:\n",
    "    if word in word_count:\n",
    "        word_count[word] += 1\n",
    "    else:\n",
    "        word_count[word] = 1\n",
    "\n",
    "for key, value in word_count.items():\n",
    "    print(key, value)"
   ]
  },
  {
   "cell_type": "code",
   "execution_count": 24,
   "id": "a844de2a",
   "metadata": {},
   "outputs": [
    {
     "name": "stdout",
     "output_type": "stream",
     "text": [
      "Enter the String: shivam\n",
      "SHIVAM\n"
     ]
    }
   ],
   "source": [
    "#14  Write a Python program to swap cases or toggle cases of a given string.\n",
    "string = input(\"Enter the String: \")\n",
    "new_string = \"\"\n",
    "for char in string:\n",
    "    if char.isupper():\n",
    "        new_string += char.lower()\n",
    "    else:\n",
    "        new_string += char.upper()\n",
    "\n",
    "print(new_string)"
   ]
  }
 ],
 "metadata": {
  "kernelspec": {
   "display_name": "Python 3 (ipykernel)",
   "language": "python",
   "name": "python3"
  },
  "language_info": {
   "codemirror_mode": {
    "name": "ipython",
    "version": 3
   },
   "file_extension": ".py",
   "mimetype": "text/x-python",
   "name": "python",
   "nbconvert_exporter": "python",
   "pygments_lexer": "ipython3",
   "version": "3.9.13"
  }
 },
 "nbformat": 4,
 "nbformat_minor": 5
}
