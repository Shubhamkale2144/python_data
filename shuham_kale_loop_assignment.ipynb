{
 "cells": [
  {
   "cell_type": "code",
   "execution_count": 2,
   "id": "f9159aeb",
   "metadata": {},
   "outputs": [
    {
     "name": "stdout",
     "output_type": "stream",
     "text": [
      "122\n",
      "124\n",
      "126\n",
      "128\n",
      "130\n",
      "132\n",
      "134\n",
      "136\n",
      "138\n",
      "140\n",
      "142\n",
      "144\n",
      "146\n",
      "148\n",
      "150\n",
      "152\n",
      "154\n",
      "156\n",
      "158\n",
      "160\n",
      "162\n",
      "164\n",
      "166\n",
      "168\n",
      "170\n",
      "172\n",
      "174\n",
      "176\n",
      "178\n",
      "180\n",
      "182\n",
      "184\n",
      "186\n",
      "188\n",
      "190\n",
      "192\n",
      "194\n",
      "196\n",
      "198\n",
      "200\n",
      "202\n",
      "204\n",
      "206\n",
      "208\n",
      "210\n",
      "212\n",
      "214\n",
      "216\n",
      "218\n",
      "220\n",
      "222\n",
      "224\n",
      "226\n",
      "228\n"
     ]
    },
    {
     "ename": "NameError",
     "evalue": "name 'Pass' is not defined",
     "output_type": "error",
     "traceback": [
      "\u001b[1;31m---------------------------------------------------------------------------\u001b[0m",
      "\u001b[1;31mNameError\u001b[0m                                 Traceback (most recent call last)",
      "\u001b[1;32m~\\AppData\\Local\\Temp\\ipykernel_7008\\3032229620.py\u001b[0m in \u001b[0;36m<module>\u001b[1;34m\u001b[0m\n\u001b[0;32m      7\u001b[0m         \u001b[0mprint\u001b[0m\u001b[1;33m(\u001b[0m\u001b[1;34m\"Even: \"\u001b[0m\u001b[1;33m,\u001b[0m\u001b[0mi\u001b[0m\u001b[1;33m)\u001b[0m\u001b[1;33m\u001b[0m\u001b[1;33m\u001b[0m\u001b[0m\n\u001b[0;32m      8\u001b[0m     \u001b[1;32melse\u001b[0m\u001b[1;33m:\u001b[0m\u001b[1;33m\u001b[0m\u001b[1;33m\u001b[0m\u001b[0m\n\u001b[1;32m----> 9\u001b[1;33m         \u001b[0mPass\u001b[0m\u001b[1;33m\u001b[0m\u001b[1;33m\u001b[0m\u001b[0m\n\u001b[0m",
      "\u001b[1;31mNameError\u001b[0m: name 'Pass' is not defined"
     ]
    }
   ],
   "source": [
    "#1. WAP to print even numbers from 121 to 229 using for loop.\n",
    "for i in range(122, 229, 2):\n",
    "    print(i)\n"
   ]
  },
  {
   "cell_type": "code",
   "execution_count": 8,
   "id": "88495c3c",
   "metadata": {},
   "outputs": [
    {
     "name": "stdout",
     "output_type": "stream",
     "text": [
      "\n",
      "Even:  122\n",
      "\n",
      "Even:  124\n",
      "\n",
      "Even:  126\n",
      "\n",
      "Even:  128\n",
      "\n",
      "Even:  130\n",
      "\n",
      "Even:  132\n",
      "\n",
      "Even:  134\n",
      "\n",
      "Even:  136\n",
      "\n",
      "Even:  138\n",
      "\n",
      "Even:  140\n",
      "\n",
      "Even:  142\n",
      "\n",
      "Even:  144\n",
      "\n",
      "Even:  146\n",
      "\n",
      "Even:  148\n",
      "\n",
      "Even:  150\n",
      "\n",
      "Even:  152\n",
      "\n",
      "Even:  154\n",
      "\n",
      "Even:  156\n",
      "\n",
      "Even:  158\n",
      "\n",
      "Even:  160\n",
      "\n",
      "Even:  162\n",
      "\n",
      "Even:  164\n",
      "\n",
      "Even:  166\n",
      "\n",
      "Even:  168\n",
      "\n",
      "Even:  170\n",
      "\n",
      "Even:  172\n",
      "\n",
      "Even:  174\n",
      "\n",
      "Even:  176\n",
      "\n",
      "Even:  178\n",
      "\n",
      "Even:  180\n",
      "\n",
      "Even:  182\n",
      "\n",
      "Even:  184\n",
      "\n",
      "Even:  186\n",
      "\n",
      "Even:  188\n",
      "\n",
      "Even:  190\n",
      "\n",
      "Even:  192\n",
      "\n",
      "Even:  194\n",
      "\n",
      "Even:  196\n",
      "\n",
      "Even:  198\n",
      "\n",
      "Even:  200\n",
      "\n",
      "Even:  202\n",
      "\n",
      "Even:  204\n",
      "\n",
      "Even:  206\n",
      "\n",
      "Even:  208\n",
      "\n",
      "Even:  210\n",
      "\n",
      "Even:  212\n",
      "\n",
      "Even:  214\n",
      "\n",
      "Even:  216\n",
      "\n",
      "Even:  218\n",
      "\n",
      "Even:  220\n",
      "\n",
      "Even:  222\n",
      "\n",
      "Even:  224\n",
      "\n",
      "Even:  226\n",
      "\n",
      "Even:  228\n",
      "\n"
     ]
    }
   ],
   "source": [
    "#1. WAP to print even numbers from 121 to 229 using for loop.\n",
    "for i in range(121,230):\n",
    "    if i%2==0:\n",
    "        print(\"Even: \",i)\n",
    "    else:\n",
    "        print(\"\")\n",
    "        \n"
   ]
  },
  {
   "cell_type": "code",
   "execution_count": null,
   "id": "dd11d711",
   "metadata": {},
   "outputs": [],
   "source": [
    "#2.WAP to print odd numbers from 521 to 229 using while loop.\n",
    "i=521\n",
    "while i>228:\n",
    "    if i%2!=0:\n",
    "        print(i)\n",
    "        i-=1"
   ]
  },
  {
   "cell_type": "code",
   "execution_count": 1,
   "id": "1d63763f",
   "metadata": {},
   "outputs": [
    {
     "name": "stdout",
     "output_type": "stream",
     "text": [
      "0\n",
      "1\n",
      "2\n",
      "3\n",
      "4\n"
     ]
    }
   ],
   "source": [
    "#3.WAP to show the use of break statement ( in for loop)\n",
    "for i in range(10):\n",
    "    if i == 5:\n",
    "        break\n",
    "    print(i)\n"
   ]
  },
  {
   "cell_type": "code",
   "execution_count": 19,
   "id": "cf56a560",
   "metadata": {},
   "outputs": [
    {
     "name": "stdout",
     "output_type": "stream",
     "text": [
      "(4, 0)\n"
     ]
    }
   ],
   "source": [
    "#WAP to find GCD and LCM of given number\n",
    "def gcd_lcm(x, y):\n",
    "    # find GCD\n",
    "    while(y):\n",
    "        x, y = y, x % y\n",
    "    gcd = x\n",
    "\n",
    "    # find LCM\n",
    "    lcm = (x*y)//gcd\n",
    "\n",
    "    return gcd, lcm\n",
    "\n",
    "print(gcd_lcm(12, 20)) # (4, 60)"
   ]
  },
  {
   "cell_type": "code",
   "execution_count": 1,
   "id": "626c9895",
   "metadata": {},
   "outputs": [
    {
     "name": "stdout",
     "output_type": "stream",
     "text": [
      "a\n",
      "b\n",
      "c\n",
      "d\n",
      "e\n",
      "f\n",
      "g\n",
      "h\n",
      "i\n",
      "j\n",
      "k\n",
      "l\n",
      "m\n",
      "n\n",
      "o\n",
      "p\n",
      "q\n",
      "r\n",
      "s\n",
      "t\n",
      "u\n",
      "v\n",
      "w\n",
      "x\n",
      "y\n",
      "z\n"
     ]
    }
   ],
   "source": [
    "#5.Write a Python program to print all alphabets from a to z using for loop\n",
    "for i in range(ord('a'), ord('z')+1):\n",
    "    print(chr(i))\n"
   ]
  },
  {
   "cell_type": "code",
   "execution_count": 2,
   "id": "a4101721",
   "metadata": {},
   "outputs": [
    {
     "name": "stdout",
     "output_type": "stream",
     "text": [
      "Enter a number: 19\n",
      "Sum of even numbers between 1 and 19 is 90\n"
     ]
    }
   ],
   "source": [
    "#6.Write a Python program to find sum of all even numbers between 1 to n.\n",
    "n = int(input(\"Enter a number: \"))\n",
    "even_sum = 0\n",
    "for i in range(2, n+1, 2):\n",
    "    even_sum += i\n",
    "\n",
    "print(\"Sum of even numbers between 1 and\", n, \"is\", even_sum)\n"
   ]
  },
  {
   "cell_type": "code",
   "execution_count": 3,
   "id": "9f11aebc",
   "metadata": {},
   "outputs": [
    {
     "name": "stdout",
     "output_type": "stream",
     "text": [
      "Enter a number: 30\n",
      "Sum of odd numbers between 1 and 30 is 225\n"
     ]
    }
   ],
   "source": [
    "#7. Write a Python program to find sum of all odd numbers between 1 to n.\n",
    "n = int(input(\"Enter a number: \"))\n",
    "odd_sum = 0\n",
    "for i in range(1,n+1):\n",
    "    if i%2 != 0:\n",
    "        odd_sum += i\n",
    "print(\"Sum of odd numbers between 1 and\", n, \"is\", odd_sum)\n"
   ]
  },
  {
   "cell_type": "code",
   "execution_count": 4,
   "id": "b25fcbaa",
   "metadata": {},
   "outputs": [
    {
     "name": "stdout",
     "output_type": "stream",
     "text": [
      "Number of digits :  6\n"
     ]
    }
   ],
   "source": [
    "#8.Write a Python program to count number of digits in any number\n",
    "number = 123456\n",
    "count = 0\n",
    "while (number > 0):\n",
    "  number = number//10\n",
    "  count += 1\n",
    "print(\"Number of digits : \", count)\n"
   ]
  },
  {
   "cell_type": "code",
   "execution_count": 9,
   "id": "327a91bd",
   "metadata": {},
   "outputs": [
    {
     "name": "stdout",
     "output_type": "stream",
     "text": [
      "Enter a number: 55\n",
      "Product of digits of the number is 25\n"
     ]
    }
   ],
   "source": [
    "#9.Write a Python program to calculate product of digits of any number.\n",
    "number = int(input(\"Enter a number: \"))\n",
    "product = 1\n",
    "\n",
    "while number > 0:\n",
    "    digit =number%10\n",
    "    product*= digit\n",
    "    number = number // 10\n",
    "\n",
    "print(\"Product of digits of the number is\", product)\n",
    "\n",
    "    \n"
   ]
  },
  {
   "cell_type": "code",
   "execution_count": null,
   "id": "ac61e1d1",
   "metadata": {},
   "outputs": [],
   "source": [
    "#Write a Python program to find frequency of each digit in a given integer."
   ]
  },
  {
   "cell_type": "code",
   "execution_count": 10,
   "id": "b9fd5c54",
   "metadata": {},
   "outputs": [
    {
     "name": "stdout",
     "output_type": "stream",
     "text": [
      "5 x 1 = 5\n",
      "5 x 2 = 10\n",
      "5 x 3 = 15\n",
      "5 x 4 = 20\n",
      "5 x 5 = 25\n",
      "5 x 6 = 30\n",
      "5 x 7 = 35\n",
      "5 x 8 = 40\n",
      "5 x 9 = 45\n",
      "5 x 10 = 50\n"
     ]
    }
   ],
   "source": [
    "#12. WAP to print table of given no\n",
    "number = 5\n",
    "\n",
    "for i in range(1, 11):\n",
    "    print(number, \"x\", i, \"=\", number*i)\n"
   ]
  },
  {
   "cell_type": "code",
   "execution_count": 11,
   "id": "e5876feb",
   "metadata": {},
   "outputs": [
    {
     "name": "stdout",
     "output_type": "stream",
     "text": [
      "Enter a number: 33\n",
      "33 x 1 = 33\n",
      "33 x 2 = 66\n",
      "33 x 3 = 99\n",
      "33 x 4 = 132\n",
      "33 x 5 = 165\n",
      "33 x 6 = 198\n",
      "33 x 7 = 231\n",
      "33 x 8 = 264\n",
      "33 x 9 = 297\n",
      "33 x 10 = 330\n"
     ]
    }
   ],
   "source": [
    "#12. WAP to print table of given no\n",
    "number = int(input(\"Enter a number: \"))\n",
    "\n",
    "for i in range(1, 11):\n",
    "    print(number, \"x\", i, \"=\", number*i)\n",
    "\n",
    "\n"
   ]
  },
  {
   "cell_type": "code",
   "execution_count": 12,
   "id": "8ccbec6a",
   "metadata": {},
   "outputs": [
    {
     "name": "stdout",
     "output_type": "stream",
     "text": [
      "[1, 4, 9, 16, 25, 36, 49, 64, 81, 100, 121, 144, 169, 196, 225, 256, 289, 324, 361, 400]\n"
     ]
    }
   ],
   "source": [
    "#13. WAP to print squares from 1 to20\n",
    "squares = [i**2 for i in range(1, 21)]\n",
    "print(squares)\n"
   ]
  },
  {
   "cell_type": "code",
   "execution_count": 16,
   "id": "ed1e5727",
   "metadata": {},
   "outputs": [
    {
     "name": "stdout",
     "output_type": "stream",
     "text": [
      "Enter the base: 2\n",
      "Enter the index: 2\n",
      "Result:  4\n"
     ]
    }
   ],
   "source": [
    "#14. WAP to accept base and index from user and calculates power\n",
    "base = int(input(\"Enter the base: \"))\n",
    "index = int(input(\"Enter the index: \"))\n",
    "result = base ** index\n",
    "print(\"Result: \", result)\n"
   ]
  },
  {
   "cell_type": "code",
   "execution_count": 18,
   "id": "8f480439",
   "metadata": {},
   "outputs": [
    {
     "name": "stdout",
     "output_type": "stream",
     "text": [
      "Enter a number: 6\n",
      "The sum of factorials from 1 to 6 is 873\n"
     ]
    }
   ],
   "source": [
    "#15.15. 1!+2!+3!.........+n! find s\n",
    "n = int(input(\"Enter a number: \"))\n",
    "result = 0\n",
    "\n",
    "for i in range(1, n+1):\n",
    "    fact = 1\n",
    "    for j in range(1, i+1):\n",
    "        fact = fact * j\n",
    "    result += fact\n",
    "\n",
    "print(\"The sum of factorials from 1 to\", n, \"is\", result)\n"
   ]
  }
 ],
 "metadata": {
  "kernelspec": {
   "display_name": "Python 3 (ipykernel)",
   "language": "python",
   "name": "python3"
  },
  "language_info": {
   "codemirror_mode": {
    "name": "ipython",
    "version": 3
   },
   "file_extension": ".py",
   "mimetype": "text/x-python",
   "name": "python",
   "nbconvert_exporter": "python",
   "pygments_lexer": "ipython3",
   "version": "3.9.13"
  }
 },
 "nbformat": 4,
 "nbformat_minor": 5
}
